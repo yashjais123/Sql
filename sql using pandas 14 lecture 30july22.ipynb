{
 "cells": [
  {
   "cell_type": "code",
   "execution_count": 1,
   "id": "66f62598",
   "metadata": {},
   "outputs": [],
   "source": [
    "import sqlite3"
   ]
  },
  {
   "cell_type": "code",
   "execution_count": 3,
   "id": "7ac91e7b",
   "metadata": {},
   "outputs": [],
   "source": [
    "db=sqlite3.connect(\"my_testbase.db\")"
   ]
  },
  {
   "cell_type": "code",
   "execution_count": 4,
   "id": "08bdaa91",
   "metadata": {},
   "outputs": [],
   "source": [
    "cursor=db.cursor()"
   ]
  },
  {
   "cell_type": "code",
   "execution_count": 6,
   "id": "862f9070",
   "metadata": {},
   "outputs": [],
   "source": [
    "import pandas as pd"
   ]
  },
  {
   "cell_type": "code",
   "execution_count": 8,
   "id": "482f6cbe",
   "metadata": {},
   "outputs": [],
   "source": [
    "stud_de=pd.read_csv(\"https://raw.githubusercontent.com/training-ml/Files/main/Students_details.csv\")"
   ]
  },
  {
   "cell_type": "code",
   "execution_count": 9,
   "id": "e5602e94",
   "metadata": {},
   "outputs": [],
   "source": [
    "stud_de.to_csv('Students_details.csv',index=False)"
   ]
  },
  {
   "cell_type": "code",
   "execution_count": 10,
   "id": "f2fee73d",
   "metadata": {},
   "outputs": [
    {
     "data": {
      "text/plain": [
       "<sqlite3.Cursor at 0x538ada0>"
      ]
     },
     "execution_count": 10,
     "metadata": {},
     "output_type": "execute_result"
    }
   ],
   "source": [
    "cursor.execute(\"create table stud_de(phone_number int, student_name text, enrolled_date text, marks int)\")"
   ]
  },
  {
   "cell_type": "code",
   "execution_count": 24,
   "id": "612ccdc6",
   "metadata": {},
   "outputs": [
    {
     "name": "stdout",
     "output_type": "stream",
     "text": [
      "20 records inserted  \n",
      "\n",
      "\n",
      "\n"
     ]
    }
   ],
   "source": [
    "with open('Students_details.csv','r')as file:\n",
    "    no_records=0\n",
    "    for row in file:\n",
    "        cursor.execute('insert into stud_de values(?,?,?,?)',row.split(\",\"))\n",
    "        \n",
    "        db.commit()\n",
    "        no_records+=1\n",
    "print(no_records,'records inserted ','\\n'*3)"
   ]
  },
  {
   "cell_type": "code",
   "execution_count": 25,
   "id": "2da26fac",
   "metadata": {},
   "outputs": [
    {
     "name": "stdout",
     "output_type": "stream",
     "text": [
      "(9988776604, 'Salah', '03-10-2020', 85)\n",
      "(9988776605, 'Heung-Son', '21-06-2020', 39)\n",
      "(9988776606, 'Ronaldo', '08-05-2020', 86)\n",
      "(9988776607, 'Kane', '11-05-2022', 57)\n",
      "(9988776608, 'Mane', '17-05-2022', 52)\n",
      "(6609998877, 'Vardy', '17-12-2020', 54)\n",
      "(6609998878, 'Jota', '06-11-2021', 45)\n",
      "(6609998879, 'Bruyne', '26-11-2020', 49)\n",
      "(6609998880, 'Zaha', '05-12-2020', 88)\n",
      "(6609998881, 'Sterling', '29-10-2020', 61)\n",
      "(9988776614, 'Toney', '31-03-2022', 71)\n",
      "(9988776615, 'Maddison', '10-03-2020', 44)\n",
      "(1687799866, 'Bowen', '14-02-2021', 96)\n",
      "(1687799867, 'Saka', '19-12-2022', 92)\n",
      "(1687799868, 'Watkins', '30-01-2021', 49)\n",
      "(1687799869, 'Mount', '16-09-2022', 48)\n",
      "(1687799870, 'Raphael', '15-05-2021', 50)\n",
      "(1687799871, 'Mahrez', '30-10-2021', 72)\n",
      "(9988776622, 'Pukki', '19-02-2021', 93)\n",
      "(9988776623, 'Fernandes', '01-03-2022', 94)\n"
     ]
    }
   ],
   "source": [
    "result=cursor.execute(\"select* from stud_de\")\n",
    "for row in result:\n",
    "    print(row)"
   ]
  },
  {
   "cell_type": "code",
   "execution_count": 26,
   "id": "73be5094",
   "metadata": {},
   "outputs": [],
   "source": [
    "import pandas as pd"
   ]
  },
  {
   "cell_type": "code",
   "execution_count": 28,
   "id": "07b8c141",
   "metadata": {},
   "outputs": [
    {
     "data": {
      "text/plain": [
       "<sqlite3.Cursor at 0x538ada0>"
      ]
     },
     "execution_count": 28,
     "metadata": {},
     "output_type": "execute_result"
    }
   ],
   "source": [
    "cursor.execute(\"select * from stud_de\")"
   ]
  },
  {
   "cell_type": "code",
   "execution_count": 30,
   "id": "630118ec",
   "metadata": {},
   "outputs": [
    {
     "name": "stdout",
     "output_type": "stream",
     "text": [
      "             0          1           2   3\n",
      "0   9988776604      Salah  03-10-2020  85\n",
      "1   9988776605  Heung-Son  21-06-2020  39\n",
      "2   9988776606    Ronaldo  08-05-2020  86\n",
      "3   9988776607       Kane  11-05-2022  57\n",
      "4   9988776608       Mane  17-05-2022  52\n",
      "5   6609998877      Vardy  17-12-2020  54\n",
      "6   6609998878       Jota  06-11-2021  45\n",
      "7   6609998879     Bruyne  26-11-2020  49\n",
      "8   6609998880       Zaha  05-12-2020  88\n",
      "9   6609998881   Sterling  29-10-2020  61\n",
      "10  9988776614      Toney  31-03-2022  71\n",
      "11  9988776615   Maddison  10-03-2020  44\n",
      "12  1687799866      Bowen  14-02-2021  96\n",
      "13  1687799867       Saka  19-12-2022  92\n",
      "14  1687799868    Watkins  30-01-2021  49\n",
      "15  1687799869      Mount  16-09-2022  48\n",
      "16  1687799870    Raphael  15-05-2021  50\n",
      "17  1687799871     Mahrez  30-10-2021  72\n",
      "18  9988776622      Pukki  19-02-2021  93\n",
      "19  9988776623  Fernandes  01-03-2022  94\n"
     ]
    }
   ],
   "source": [
    "df=pd.DataFrame (cursor.fetchall())\n",
    "print(df)"
   ]
  },
  {
   "cell_type": "code",
   "execution_count": 31,
   "id": "c426fe2b",
   "metadata": {},
   "outputs": [
    {
     "data": {
      "text/plain": [
       "(('phone_number', None, None, None, None, None, None),\n",
       " ('student_name', None, None, None, None, None, None),\n",
       " ('enrolled_date', None, None, None, None, None, None),\n",
       " ('marks', None, None, None, None, None, None))"
      ]
     },
     "execution_count": 31,
     "metadata": {},
     "output_type": "execute_result"
    }
   ],
   "source": [
    "cursor.description"
   ]
  },
  {
   "cell_type": "code",
   "execution_count": 32,
   "id": "fc51c863",
   "metadata": {},
   "outputs": [
    {
     "data": {
      "text/html": [
       "<div>\n",
       "<style scoped>\n",
       "    .dataframe tbody tr th:only-of-type {\n",
       "        vertical-align: middle;\n",
       "    }\n",
       "\n",
       "    .dataframe tbody tr th {\n",
       "        vertical-align: top;\n",
       "    }\n",
       "\n",
       "    .dataframe thead th {\n",
       "        text-align: right;\n",
       "    }\n",
       "</style>\n",
       "<table border=\"1\" class=\"dataframe\">\n",
       "  <thead>\n",
       "    <tr style=\"text-align: right;\">\n",
       "      <th></th>\n",
       "      <th>phone_number</th>\n",
       "      <th>student_name</th>\n",
       "      <th>enrolled_date</th>\n",
       "      <th>marks</th>\n",
       "    </tr>\n",
       "  </thead>\n",
       "  <tbody>\n",
       "    <tr>\n",
       "      <th>0</th>\n",
       "      <td>9988776604</td>\n",
       "      <td>Salah</td>\n",
       "      <td>03-10-2020</td>\n",
       "      <td>85</td>\n",
       "    </tr>\n",
       "    <tr>\n",
       "      <th>1</th>\n",
       "      <td>9988776605</td>\n",
       "      <td>Heung-Son</td>\n",
       "      <td>21-06-2020</td>\n",
       "      <td>39</td>\n",
       "    </tr>\n",
       "    <tr>\n",
       "      <th>2</th>\n",
       "      <td>9988776606</td>\n",
       "      <td>Ronaldo</td>\n",
       "      <td>08-05-2020</td>\n",
       "      <td>86</td>\n",
       "    </tr>\n",
       "    <tr>\n",
       "      <th>3</th>\n",
       "      <td>9988776607</td>\n",
       "      <td>Kane</td>\n",
       "      <td>11-05-2022</td>\n",
       "      <td>57</td>\n",
       "    </tr>\n",
       "    <tr>\n",
       "      <th>4</th>\n",
       "      <td>9988776608</td>\n",
       "      <td>Mane</td>\n",
       "      <td>17-05-2022</td>\n",
       "      <td>52</td>\n",
       "    </tr>\n",
       "  </tbody>\n",
       "</table>\n",
       "</div>"
      ],
      "text/plain": [
       "   phone_number student_name enrolled_date  marks\n",
       "0    9988776604        Salah    03-10-2020     85\n",
       "1    9988776605    Heung-Son    21-06-2020     39\n",
       "2    9988776606      Ronaldo    08-05-2020     86\n",
       "3    9988776607         Kane    11-05-2022     57\n",
       "4    9988776608         Mane    17-05-2022     52"
      ]
     },
     "execution_count": 32,
     "metadata": {},
     "output_type": "execute_result"
    }
   ],
   "source": [
    "df.columns=[x[0]for x in cursor.description]\n",
    "df.head()"
   ]
  },
  {
   "cell_type": "code",
   "execution_count": 33,
   "id": "79cda3da",
   "metadata": {},
   "outputs": [
    {
     "data": {
      "text/html": [
       "<div>\n",
       "<style scoped>\n",
       "    .dataframe tbody tr th:only-of-type {\n",
       "        vertical-align: middle;\n",
       "    }\n",
       "\n",
       "    .dataframe tbody tr th {\n",
       "        vertical-align: top;\n",
       "    }\n",
       "\n",
       "    .dataframe thead th {\n",
       "        text-align: right;\n",
       "    }\n",
       "</style>\n",
       "<table border=\"1\" class=\"dataframe\">\n",
       "  <thead>\n",
       "    <tr style=\"text-align: right;\">\n",
       "      <th></th>\n",
       "      <th>phone_number</th>\n",
       "      <th>student_name</th>\n",
       "      <th>enrolled_date</th>\n",
       "      <th>marks</th>\n",
       "    </tr>\n",
       "  </thead>\n",
       "  <tbody>\n",
       "    <tr>\n",
       "      <th>15</th>\n",
       "      <td>1687799869</td>\n",
       "      <td>Mount</td>\n",
       "      <td>16-09-2022</td>\n",
       "      <td>48</td>\n",
       "    </tr>\n",
       "    <tr>\n",
       "      <th>16</th>\n",
       "      <td>1687799870</td>\n",
       "      <td>Raphael</td>\n",
       "      <td>15-05-2021</td>\n",
       "      <td>50</td>\n",
       "    </tr>\n",
       "    <tr>\n",
       "      <th>17</th>\n",
       "      <td>1687799871</td>\n",
       "      <td>Mahrez</td>\n",
       "      <td>30-10-2021</td>\n",
       "      <td>72</td>\n",
       "    </tr>\n",
       "    <tr>\n",
       "      <th>18</th>\n",
       "      <td>9988776622</td>\n",
       "      <td>Pukki</td>\n",
       "      <td>19-02-2021</td>\n",
       "      <td>93</td>\n",
       "    </tr>\n",
       "    <tr>\n",
       "      <th>19</th>\n",
       "      <td>9988776623</td>\n",
       "      <td>Fernandes</td>\n",
       "      <td>01-03-2022</td>\n",
       "      <td>94</td>\n",
       "    </tr>\n",
       "  </tbody>\n",
       "</table>\n",
       "</div>"
      ],
      "text/plain": [
       "    phone_number student_name enrolled_date  marks\n",
       "15    1687799869        Mount    16-09-2022     48\n",
       "16    1687799870      Raphael    15-05-2021     50\n",
       "17    1687799871       Mahrez    30-10-2021     72\n",
       "18    9988776622        Pukki    19-02-2021     93\n",
       "19    9988776623    Fernandes    01-03-2022     94"
      ]
     },
     "execution_count": 33,
     "metadata": {},
     "output_type": "execute_result"
    }
   ],
   "source": [
    "df.tail()"
   ]
  },
  {
   "cell_type": "code",
   "execution_count": 34,
   "id": "64a41e5c",
   "metadata": {},
   "outputs": [
    {
     "data": {
      "text/plain": [
       "<sqlite3.Cursor at 0x538ada0>"
      ]
     },
     "execution_count": 34,
     "metadata": {},
     "output_type": "execute_result"
    }
   ],
   "source": [
    "sql=\"drop table stud_de\"\n",
    "cursor.execute(sql)"
   ]
  },
  {
   "cell_type": "code",
   "execution_count": null,
   "id": "01ca817c",
   "metadata": {},
   "outputs": [],
   "source": []
  }
 ],
 "metadata": {
  "kernelspec": {
   "display_name": "Python 3 (ipykernel)",
   "language": "python",
   "name": "python3"
  },
  "language_info": {
   "codemirror_mode": {
    "name": "ipython",
    "version": 3
   },
   "file_extension": ".py",
   "mimetype": "text/x-python",
   "name": "python",
   "nbconvert_exporter": "python",
   "pygments_lexer": "ipython3",
   "version": "3.9.12"
  }
 },
 "nbformat": 4,
 "nbformat_minor": 5
}
