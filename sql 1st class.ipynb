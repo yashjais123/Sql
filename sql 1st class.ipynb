{
 "cells": [
  {
   "cell_type": "code",
   "execution_count": 1,
   "id": "882794d5",
   "metadata": {},
   "outputs": [],
   "source": [
    "import sqlite3"
   ]
  },
  {
   "cell_type": "code",
   "execution_count": 2,
   "id": "59b8f9be",
   "metadata": {},
   "outputs": [],
   "source": [
    "db=sqlite3.connect(\"set_database\")"
   ]
  },
  {
   "cell_type": "code",
   "execution_count": 3,
   "id": "fb96b878",
   "metadata": {},
   "outputs": [],
   "source": [
    "cursor=db.cursor()"
   ]
  },
  {
   "cell_type": "code",
   "execution_count": 4,
   "id": "fb1cfae3",
   "metadata": {},
   "outputs": [
    {
     "data": {
      "text/plain": [
       "<sqlite3.Cursor at 0x4f19d60>"
      ]
     },
     "execution_count": 4,
     "metadata": {},
     "output_type": "execute_result"
    }
   ],
   "source": [
    "cursor.execute(\"create table set_database(phone_num int, email_id text, course_name text,fee_paid int)\")"
   ]
  },
  {
   "cell_type": "code",
   "execution_count": 5,
   "id": "cd9a64db",
   "metadata": {},
   "outputs": [
    {
     "data": {
      "text/plain": [
       "<sqlite3.Cursor at 0x4f19d60>"
      ]
     },
     "execution_count": 5,
     "metadata": {},
     "output_type": "execute_result"
    }
   ],
   "source": [
    "cursor.execute(\"insert into set_database values(0099887766,'yt@gmail.com','datascience',40000),(1122334455,'hj@gmail.com','datascience',90000),(6655447788,'sd@gmail.com','datascience',50000),(3344556633,'as@gmail.com','datascience',30000)\")"
   ]
  },
  {
   "cell_type": "code",
   "execution_count": 6,
   "id": "68842915",
   "metadata": {},
   "outputs": [],
   "source": [
    "db.commit()"
   ]
  },
  {
   "cell_type": "code",
   "execution_count": 8,
   "id": "dd4f4888",
   "metadata": {},
   "outputs": [
    {
     "name": "stdout",
     "output_type": "stream",
     "text": [
      "(99887766, 'yt@gmail.com', 'datascience', 40000)\n",
      "(1122334455, 'hj@gmail.com', 'datascience', 90000)\n",
      "(6655447788, 'sd@gmail.com', 'datascience', 50000)\n",
      "(3344556633, 'as@gmail.com', 'datascience', 30000)\n"
     ]
    }
   ],
   "source": [
    "result=cursor.execute(\"select*from set_database\")\n",
    "\n",
    "for row in result:\n",
    "    print(row)"
   ]
  },
  {
   "cell_type": "code",
   "execution_count": 10,
   "id": "cc0e28fb",
   "metadata": {},
   "outputs": [],
   "source": [
    "with open ('DT_students.csv','r')as file:\n",
    "    no_record=0\n",
    "    for row in file:\n",
    "        cursor.execute(\"insert into set_database values (?,?,?,? )\",row.split(\",\"))\n",
    "        db.commit()\n",
    "        no_record=no_record+1"
   ]
  },
  {
   "cell_type": "code",
   "execution_count": 12,
   "id": "3e2a10cf",
   "metadata": {},
   "outputs": [
    {
     "name": "stdout",
     "output_type": "stream",
     "text": [
      "20 records.inserted\n"
     ]
    }
   ],
   "source": [
    "print(no_record,'records.inserted')"
   ]
  },
  {
   "cell_type": "code",
   "execution_count": 13,
   "id": "dd54fb93",
   "metadata": {},
   "outputs": [
    {
     "name": "stdout",
     "output_type": "stream",
     "text": [
      "(99887766, 'yt@gmail.com', 'datascience', 40000)\n",
      "(1122334455, 'hj@gmail.com', 'datascience', 90000)\n",
      "(6655447788, 'sd@gmail.com', 'datascience', 50000)\n",
      "(3344556633, 'as@gmail.com', 'datascience', 30000)\n",
      "(9988776604, 'student4@gmail.com', 'Digital Marketing', 38000)\n",
      "(9988776605, 'student5@gmail.com', 'Data Science', 133000)\n",
      "(9988776606, 'student6@gmail.com', 'Data Science', 34000)\n",
      "(9988776607, 'student7@gmail.com', 'Data Science', 33000)\n",
      "(9988776608, 'student8@gmail.com', 'Data Science', 129000)\n",
      "(9988776609, 'student9@gmail.com', 'Data Science', 40000)\n",
      "(9988776610, 'student10@gmail.com', 'Data Analytics', 32500)\n",
      "(9988776611, 'student11@gmail.com', 'Data Science', 41500)\n",
      "(9988776612, 'student12@gmail.com', 'Digital Marketing', 31000)\n",
      "(9988776613, 'student13@gmail.com', 'Digital Marketing', 23000)\n",
      "(9988776614, 'student14@gmail.com', 'Data Science', 24000)\n",
      "(9988776615, 'student15@gmail.com', 'Data Science', 23000)\n",
      "(9988776616, 'student16@gmail.com', 'Data Science', 122500)\n",
      "(9988776617, 'student17@gmail.com', 'Data Science', 29000)\n",
      "(9988776618, 'student18@gmail.com', 'Data Science', 140000)\n",
      "(9988776619, 'student19@gmail.com', 'Data Analytics', 32500)\n",
      "(9988776620, 'student20@gmail.com', 'Inv Banking', 41500)\n",
      "(9988776621, 'student21@gmail.com', 'Data Science', 131000)\n",
      "(9988776622, 'student22@gmail.com', 'Data Science', 23000)\n",
      "(9988776623, 'student23@gmail.com', 'Data Science', 24000)\n"
     ]
    }
   ],
   "source": [
    "result=cursor.execute(\"select*from set_database\")\n",
    "for row in result:\n",
    "    print(row)"
   ]
  },
  {
   "cell_type": "code",
   "execution_count": 14,
   "id": "0fa6bb41",
   "metadata": {},
   "outputs": [],
   "source": [
    "sql=\"select*from set_database where course_name='datascience'\""
   ]
  },
  {
   "cell_type": "code",
   "execution_count": 15,
   "id": "c44a950a",
   "metadata": {},
   "outputs": [
    {
     "name": "stdout",
     "output_type": "stream",
     "text": [
      "(99887766, 'yt@gmail.com', 'datascience', 40000)\n",
      "(1122334455, 'hj@gmail.com', 'datascience', 90000)\n",
      "(6655447788, 'sd@gmail.com', 'datascience', 50000)\n",
      "(3344556633, 'as@gmail.com', 'datascience', 30000)\n"
     ]
    }
   ],
   "source": [
    "result=cursor.execute(sql)\n",
    "for row in result:\n",
    "    print(row)"
   ]
  },
  {
   "cell_type": "code",
   "execution_count": 18,
   "id": "c1485718",
   "metadata": {},
   "outputs": [],
   "source": [
    "sql=\"delete from set_database where phone_num = 3344556633\""
   ]
  },
  {
   "cell_type": "code",
   "execution_count": 19,
   "id": "1cb33d20",
   "metadata": {},
   "outputs": [],
   "source": [
    "cursor.execute(sql)\n",
    "db.commit()"
   ]
  },
  {
   "cell_type": "code",
   "execution_count": 21,
   "id": "297dce4d",
   "metadata": {},
   "outputs": [
    {
     "name": "stdout",
     "output_type": "stream",
     "text": [
      "(99887766, 'yt@gmail.com', 'datascience', 40000)\n",
      "(1122334455, 'hj@gmail.com', 'datascience', 90000)\n",
      "(6655447788, 'sd@gmail.com', 'datascience', 50000)\n",
      "(9988776604, 'student4@gmail.com', 'Digital Marketing', 38000)\n",
      "(9988776605, 'student5@gmail.com', 'Data Science', 133000)\n",
      "(9988776606, 'student6@gmail.com', 'Data Science', 34000)\n",
      "(9988776607, 'student7@gmail.com', 'Data Science', 33000)\n",
      "(9988776608, 'student8@gmail.com', 'Data Science', 129000)\n",
      "(9988776609, 'student9@gmail.com', 'Data Science', 40000)\n",
      "(9988776610, 'student10@gmail.com', 'Data Analytics', 32500)\n",
      "(9988776611, 'student11@gmail.com', 'Data Science', 41500)\n",
      "(9988776612, 'student12@gmail.com', 'Digital Marketing', 31000)\n",
      "(9988776613, 'student13@gmail.com', 'Digital Marketing', 23000)\n",
      "(9988776614, 'student14@gmail.com', 'Data Science', 24000)\n",
      "(9988776615, 'student15@gmail.com', 'Data Science', 23000)\n",
      "(9988776616, 'student16@gmail.com', 'Data Science', 122500)\n",
      "(9988776617, 'student17@gmail.com', 'Data Science', 29000)\n",
      "(9988776618, 'student18@gmail.com', 'Data Science', 140000)\n",
      "(9988776619, 'student19@gmail.com', 'Data Analytics', 32500)\n",
      "(9988776620, 'student20@gmail.com', 'Inv Banking', 41500)\n",
      "(9988776621, 'student21@gmail.com', 'Data Science', 131000)\n",
      "(9988776622, 'student22@gmail.com', 'Data Science', 23000)\n",
      "(9988776623, 'student23@gmail.com', 'Data Science', 24000)\n"
     ]
    }
   ],
   "source": [
    "result=cursor.execute(\"select*from set_database\")\n",
    "for row in result:\n",
    "    print(row)"
   ]
  },
  {
   "cell_type": "code",
   "execution_count": 22,
   "id": "96f58ffb",
   "metadata": {},
   "outputs": [],
   "source": [
    "result=cursor.execute(\"select*from set_database order by fee_paid desc\")"
   ]
  },
  {
   "cell_type": "code",
   "execution_count": 23,
   "id": "0104b590",
   "metadata": {},
   "outputs": [
    {
     "name": "stdout",
     "output_type": "stream",
     "text": [
      "(9988776618, 'student18@gmail.com', 'Data Science', 140000)\n",
      "(9988776605, 'student5@gmail.com', 'Data Science', 133000)\n",
      "(9988776621, 'student21@gmail.com', 'Data Science', 131000)\n",
      "(9988776608, 'student8@gmail.com', 'Data Science', 129000)\n",
      "(9988776616, 'student16@gmail.com', 'Data Science', 122500)\n",
      "(1122334455, 'hj@gmail.com', 'datascience', 90000)\n",
      "(6655447788, 'sd@gmail.com', 'datascience', 50000)\n",
      "(9988776611, 'student11@gmail.com', 'Data Science', 41500)\n",
      "(9988776620, 'student20@gmail.com', 'Inv Banking', 41500)\n",
      "(99887766, 'yt@gmail.com', 'datascience', 40000)\n",
      "(9988776609, 'student9@gmail.com', 'Data Science', 40000)\n",
      "(9988776604, 'student4@gmail.com', 'Digital Marketing', 38000)\n",
      "(9988776606, 'student6@gmail.com', 'Data Science', 34000)\n",
      "(9988776607, 'student7@gmail.com', 'Data Science', 33000)\n",
      "(9988776610, 'student10@gmail.com', 'Data Analytics', 32500)\n",
      "(9988776619, 'student19@gmail.com', 'Data Analytics', 32500)\n",
      "(9988776612, 'student12@gmail.com', 'Digital Marketing', 31000)\n",
      "(9988776617, 'student17@gmail.com', 'Data Science', 29000)\n",
      "(9988776614, 'student14@gmail.com', 'Data Science', 24000)\n",
      "(9988776623, 'student23@gmail.com', 'Data Science', 24000)\n",
      "(9988776613, 'student13@gmail.com', 'Digital Marketing', 23000)\n",
      "(9988776615, 'student15@gmail.com', 'Data Science', 23000)\n",
      "(9988776622, 'student22@gmail.com', 'Data Science', 23000)\n"
     ]
    }
   ],
   "source": [
    "for row in result:\n",
    "    print(row)"
   ]
  },
  {
   "cell_type": "code",
   "execution_count": 24,
   "id": "e15f6017",
   "metadata": {},
   "outputs": [],
   "source": [
    "sql=\"update set_database set course_name = 'data science' where phone_num = 9988776613\""
   ]
  },
  {
   "cell_type": "code",
   "execution_count": 25,
   "id": "e1d8ce8d",
   "metadata": {},
   "outputs": [
    {
     "data": {
      "text/plain": [
       "<sqlite3.Cursor at 0x4f19d60>"
      ]
     },
     "execution_count": 25,
     "metadata": {},
     "output_type": "execute_result"
    }
   ],
   "source": [
    "cursor.execute(sql)"
   ]
  },
  {
   "cell_type": "code",
   "execution_count": 26,
   "id": "24b0f620",
   "metadata": {},
   "outputs": [],
   "source": [
    "sql=\"select*from set_database where phone_num = 9988776613\""
   ]
  },
  {
   "cell_type": "code",
   "execution_count": 27,
   "id": "06330479",
   "metadata": {},
   "outputs": [
    {
     "name": "stdout",
     "output_type": "stream",
     "text": [
      "(9988776613, 'student13@gmail.com', 'data science', 23000)\n"
     ]
    }
   ],
   "source": [
    "result=cursor.execute(sql)\n",
    "for row in result:\n",
    "    print(row)"
   ]
  },
  {
   "cell_type": "code",
   "execution_count": 28,
   "id": "34c7393d",
   "metadata": {},
   "outputs": [],
   "source": [
    "sql=\"select phone_num,email_id,fee_paid from set_database where course_name='data science' and fee_paid <=50000\""
   ]
  },
  {
   "cell_type": "code",
   "execution_count": 29,
   "id": "71693d67",
   "metadata": {},
   "outputs": [
    {
     "name": "stdout",
     "output_type": "stream",
     "text": [
      "(9988776613, 'student13@gmail.com', 23000)\n"
     ]
    }
   ],
   "source": [
    "result=cursor.execute(sql)\n",
    "for row in result:\n",
    "    print(row)"
   ]
  },
  {
   "cell_type": "code",
   "execution_count": 38,
   "id": "dfc9bbd2",
   "metadata": {},
   "outputs": [],
   "source": [
    "sql=\"select phone_num,email_id,fee_paid from set_database where course_name='datascience' and fee_paid <=50000\""
   ]
  },
  {
   "cell_type": "code",
   "execution_count": 39,
   "id": "f4f8f3b1",
   "metadata": {},
   "outputs": [
    {
     "name": "stdout",
     "output_type": "stream",
     "text": [
      "(99887766, 'yt@gmail.com', 40000)\n",
      "(6655447788, 'sd@gmail.com', 50000)\n"
     ]
    }
   ],
   "source": [
    "result=cursor.execute(sql)\n",
    "for row in result:\n",
    "    print(row)"
   ]
  },
  {
   "cell_type": "code",
   "execution_count": 40,
   "id": "757bf477",
   "metadata": {},
   "outputs": [],
   "source": [
    "sql=\"update set_database set fee_paid=140000 where phone_num in (9988776608,9988776615,9988776609)\""
   ]
  },
  {
   "cell_type": "code",
   "execution_count": 41,
   "id": "a54a29b9",
   "metadata": {},
   "outputs": [
    {
     "data": {
      "text/plain": [
       "<sqlite3.Cursor at 0x4f19d60>"
      ]
     },
     "execution_count": 41,
     "metadata": {},
     "output_type": "execute_result"
    }
   ],
   "source": [
    "cursor.execute(sql)"
   ]
  },
  {
   "cell_type": "code",
   "execution_count": 42,
   "id": "06cdfdb6",
   "metadata": {},
   "outputs": [],
   "source": [
    "result=cursor.execute(\"select phone_num, fee_paid from set_database where phone_num in (9988776608,9988776615,9988776609)\")"
   ]
  },
  {
   "cell_type": "code",
   "execution_count": 43,
   "id": "d5bba643",
   "metadata": {},
   "outputs": [
    {
     "name": "stdout",
     "output_type": "stream",
     "text": [
      "(9988776608, 140000)\n",
      "(9988776609, 140000)\n",
      "(9988776615, 140000)\n"
     ]
    }
   ],
   "source": [
    "for row in result:\n",
    "    print(row)"
   ]
  },
  {
   "cell_type": "code",
   "execution_count": 55,
   "id": "8894d00d",
   "metadata": {},
   "outputs": [],
   "source": [
    "sql=\"update set_database set course_name = 'Tableau' where phone_num between 9988776604 and 9988776606\""
   ]
  },
  {
   "cell_type": "code",
   "execution_count": 56,
   "id": "701edff9",
   "metadata": {},
   "outputs": [
    {
     "data": {
      "text/plain": [
       "<sqlite3.Cursor at 0x4f19d60>"
      ]
     },
     "execution_count": 56,
     "metadata": {},
     "output_type": "execute_result"
    }
   ],
   "source": [
    "cursor.execute(sql)"
   ]
  },
  {
   "cell_type": "code",
   "execution_count": 57,
   "id": "87725277",
   "metadata": {},
   "outputs": [],
   "source": [
    "result=cursor.execute(\"select phone_num,course_name from set_database where course_name = 'Tableau'\")"
   ]
  },
  {
   "cell_type": "code",
   "execution_count": 58,
   "id": "94e776a7",
   "metadata": {},
   "outputs": [
    {
     "name": "stdout",
     "output_type": "stream",
     "text": [
      "(9988776604, 'Tableau')\n",
      "(9988776605, 'Tableau')\n",
      "(9988776606, 'Tableau')\n"
     ]
    }
   ],
   "source": [
    "for row in result:\n",
    "    print(row)"
   ]
  },
  {
   "cell_type": "code",
   "execution_count": 59,
   "id": "d8d6461d",
   "metadata": {},
   "outputs": [
    {
     "name": "stdout",
     "output_type": "stream",
     "text": [
      "minmum fees= (23000,)\n"
     ]
    }
   ],
   "source": [
    "result=cursor.execute(\"select min (fee_paid)from set_database\")\n",
    "\n",
    "print('minmum fees=', result.fetchone())"
   ]
  },
  {
   "cell_type": "code",
   "execution_count": 60,
   "id": "2165c0a2",
   "metadata": {},
   "outputs": [
    {
     "name": "stdout",
     "output_type": "stream",
     "text": [
      "maximum fees= (140000,)\n"
     ]
    }
   ],
   "source": [
    "result=cursor.execute(\"select max (fee_paid)from set_database\")\n",
    "\n",
    "print('maximum fees=', result.fetchone())"
   ]
  },
  {
   "cell_type": "code",
   "execution_count": 61,
   "id": "4ad1bbf9",
   "metadata": {},
   "outputs": [],
   "source": [
    "db=sqlite3.connect(\"mn_course.db\")"
   ]
  },
  {
   "cell_type": "code",
   "execution_count": 62,
   "id": "0c834727",
   "metadata": {},
   "outputs": [],
   "source": [
    "cur=db.cursor()"
   ]
  },
  {
   "cell_type": "code",
   "execution_count": 63,
   "id": "6e5c8059",
   "metadata": {},
   "outputs": [
    {
     "data": {
      "text/plain": [
       "<sqlite3.Cursor at 0x627e4a0>"
      ]
     },
     "execution_count": 63,
     "metadata": {},
     "output_type": "execute_result"
    }
   ],
   "source": [
    "cur.execute(\"create table cou1(courseid int,coursename text,duration int)\")"
   ]
  },
  {
   "cell_type": "code",
   "execution_count": 65,
   "id": "b713d8fa",
   "metadata": {},
   "outputs": [
    {
     "data": {
      "text/plain": [
       "<sqlite3.Cursor at 0x627e4a0>"
      ]
     },
     "execution_count": 65,
     "metadata": {},
     "output_type": "execute_result"
    }
   ],
   "source": [
    "cur.execute(\"create table set1(roll_no int, studentname text,age int,courseid int,foreign key(courseid)references cou1(courseid))\")"
   ]
  },
  {
   "cell_type": "code",
   "execution_count": 66,
   "id": "d47f9666",
   "metadata": {},
   "outputs": [
    {
     "name": "stdout",
     "output_type": "stream",
     "text": [
      "3 record(s) inserted\n"
     ]
    }
   ],
   "source": [
    "cur.execute(\"insert into cou1 values(78,'data science',12),(101,'data science',7),(56,'data science',4)\")\n",
    "\n",
    "print(cur.rowcount,\"record(s) inserted\")\n",
    "\n",
    "db.commit()"
   ]
  },
  {
   "cell_type": "code",
   "execution_count": 67,
   "id": "2fc4e1eb",
   "metadata": {},
   "outputs": [
    {
     "name": "stdout",
     "output_type": "stream",
     "text": [
      "4 record(s) inserted\n"
     ]
    }
   ],
   "source": [
    "cur.execute(\"insert into set1 values(1,'jack',22,78),(2,'john',21,56),(3,'rudo',18,78),(4,'jim',21,56)\")\n",
    "\n",
    "print(cur.rowcount,\"record(s) inserted\")\n",
    "\n",
    "db.commit()"
   ]
  },
  {
   "cell_type": "code",
   "execution_count": 69,
   "id": "8c51b646",
   "metadata": {},
   "outputs": [
    {
     "name": "stdout",
     "output_type": "stream",
     "text": [
      "(78, 'data science', 12)\n",
      "(101, 'data science', 7)\n",
      "(56, 'data science', 4)\n"
     ]
    }
   ],
   "source": [
    "result=cur.execute(\"select * from cou1\")\n",
    "\n",
    "for row in result:\n",
    "    print(row)"
   ]
  },
  {
   "cell_type": "code",
   "execution_count": 70,
   "id": "da17d76b",
   "metadata": {},
   "outputs": [
    {
     "name": "stdout",
     "output_type": "stream",
     "text": [
      "(1, 'jack', 22, 78)\n",
      "(2, 'john', 21, 56)\n",
      "(3, 'rudo', 18, 78)\n",
      "(4, 'jim', 21, 56)\n"
     ]
    }
   ],
   "source": [
    "result=cur.execute(\"select * from set1\")\n",
    "\n",
    "for row in result:\n",
    "    print(row)"
   ]
  },
  {
   "cell_type": "code",
   "execution_count": 71,
   "id": "bb50da89",
   "metadata": {},
   "outputs": [
    {
     "name": "stdout",
     "output_type": "stream",
     "text": [
      "(78,)\n",
      "(101,)\n",
      "(56,)\n"
     ]
    }
   ],
   "source": [
    "result=cur.execute(\"select courseid from cou1 where coursename='data science'\")\n",
    "\n",
    "for i in result:\n",
    "    print(i)"
   ]
  },
  {
   "cell_type": "code",
   "execution_count": 72,
   "id": "8c6f9e75",
   "metadata": {},
   "outputs": [
    {
     "data": {
      "text/plain": [
       "[(1, 'jack', 22, 78), (3, 'rudo', 18, 78)]"
      ]
     },
     "execution_count": 72,
     "metadata": {},
     "output_type": "execute_result"
    }
   ],
   "source": [
    "result=cur.execute(\"select*from set1 where courseid=(select courseid from cou1 where coursename='data science')\")\n",
    "\n",
    "result.fetchall()"
   ]
  },
  {
   "cell_type": "code",
   "execution_count": 76,
   "id": "e4beda1c",
   "metadata": {},
   "outputs": [
    {
     "data": {
      "text/plain": [
       "[]"
      ]
     },
     "execution_count": 76,
     "metadata": {},
     "output_type": "execute_result"
    }
   ],
   "source": [
    "result=cur.execute(\"select*from set1 where courseid=(select courseid from cou1 where coursename='python course')\")\n",
    "\n",
    "result.fetchall()"
   ]
  },
  {
   "cell_type": "code",
   "execution_count": 2,
   "id": "5bed3926",
   "metadata": {},
   "outputs": [
    {
     "ename": "NameError",
     "evalue": "name 'cursor' is not defined",
     "output_type": "error",
     "traceback": [
      "\u001b[1;31m---------------------------------------------------------------------------\u001b[0m",
      "\u001b[1;31mNameError\u001b[0m                                 Traceback (most recent call last)",
      "Input \u001b[1;32mIn [2]\u001b[0m, in \u001b[0;36m<cell line: 1>\u001b[1;34m()\u001b[0m\n\u001b[1;32m----> 1\u001b[0m result\u001b[38;5;241m=\u001b[39m\u001b[43mcursor\u001b[49m\u001b[38;5;241m.\u001b[39mexecute(\u001b[38;5;124m\"\u001b[39m\u001b[38;5;124mselect*from student_data\u001b[39m\u001b[38;5;124m\"\u001b[39m)\n\u001b[0;32m      3\u001b[0m \u001b[38;5;28;01mfor\u001b[39;00m row \u001b[38;5;129;01min\u001b[39;00m result:\n\u001b[0;32m      4\u001b[0m     \u001b[38;5;28mprint\u001b[39m(row)\n",
      "\u001b[1;31mNameError\u001b[0m: name 'cursor' is not defined"
     ]
    }
   ],
   "source": [
    "result=cursor.execute(\"select*from student_data\")\n",
    "\n",
    "for row in result:\n",
    "    print(row)"
   ]
  },
  {
   "cell_type": "code",
   "execution_count": null,
   "id": "16bc2103",
   "metadata": {},
   "outputs": [],
   "source": []
  }
 ],
 "metadata": {
  "kernelspec": {
   "display_name": "Python 3 (ipykernel)",
   "language": "python",
   "name": "python3"
  },
  "language_info": {
   "codemirror_mode": {
    "name": "ipython",
    "version": 3
   },
   "file_extension": ".py",
   "mimetype": "text/x-python",
   "name": "python",
   "nbconvert_exporter": "python",
   "pygments_lexer": "ipython3",
   "version": "3.9.12"
  }
 },
 "nbformat": 4,
 "nbformat_minor": 5
}
