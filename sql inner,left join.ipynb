{
 "cells": [
  {
   "cell_type": "code",
   "execution_count": 1,
   "id": "d20ebce7",
   "metadata": {},
   "outputs": [],
   "source": [
    "import sqlite3"
   ]
  },
  {
   "cell_type": "code",
   "execution_count": 3,
   "id": "a772cd9b",
   "metadata": {},
   "outputs": [],
   "source": [
    "db=sqlite3.connect(\"stud_z\")"
   ]
  },
  {
   "cell_type": "code",
   "execution_count": 4,
   "id": "5d7b5c8c",
   "metadata": {},
   "outputs": [],
   "source": [
    "cursor=db.cursor()"
   ]
  },
  {
   "cell_type": "code",
   "execution_count": 5,
   "id": "e33ab32e",
   "metadata": {},
   "outputs": [
    {
     "data": {
      "text/plain": [
       "<sqlite3.Cursor at 0x64655a0>"
      ]
     },
     "execution_count": 5,
     "metadata": {},
     "output_type": "execute_result"
    }
   ],
   "source": [
    "cursor.execute(\"create table stud_z(phone_number int, student_name text, enrolled_date text,marks int)\")"
   ]
  },
  {
   "cell_type": "code",
   "execution_count": 6,
   "id": "d4ff55c9",
   "metadata": {},
   "outputs": [
    {
     "name": "stdout",
     "output_type": "stream",
     "text": [
      "20 records inserted\n"
     ]
    }
   ],
   "source": [
    "with open('Students_details.csv','r')as file:\n",
    "    no_records=0\n",
    "    for row in file:\n",
    "        cursor.execute(\"insert into stud_z values(?,?,?,?)\",row.split(\",\"))\n",
    "        db.commit()\n",
    "        no_records+=1\n",
    "print(no_records,'records inserted')"
   ]
  },
  {
   "cell_type": "code",
   "execution_count": 7,
   "id": "29bb76b5",
   "metadata": {},
   "outputs": [
    {
     "name": "stdout",
     "output_type": "stream",
     "text": [
      "(9988776604, 'Salah', '03-10-2020', 85)\n",
      "(9988776605, 'Heung-Son', '21-06-2020', 39)\n",
      "(9988776606, 'Ronaldo', '08-05-2020', 86)\n",
      "(9988776607, 'Kane', '11-05-2022', 57)\n",
      "(9988776608, 'Mane', '17-05-2022', 52)\n",
      "(6609998877, 'Vardy', '17-12-2020', 54)\n",
      "(6609998878, 'Jota', '06-11-2021', 45)\n",
      "(6609998879, 'Bruyne', '26-11-2020', 49)\n",
      "(6609998880, 'Zaha', '05-12-2020', 88)\n",
      "(6609998881, 'Sterling', '29-10-2020', 61)\n",
      "(9988776614, 'Toney', '31-03-2022', 71)\n",
      "(9988776615, 'Maddison', '10-03-2020', 44)\n",
      "(1687799866, 'Bowen', '14-02-2021', 96)\n",
      "(1687799867, 'Saka', '19-12-2022', 92)\n",
      "(1687799868, 'Watkins', '30-01-2021', 49)\n",
      "(1687799869, 'Mount', '16-09-2022', 48)\n",
      "(1687799870, 'Raphael', '15-05-2021', 50)\n",
      "(1687799871, 'Mahrez', '30-10-2021', 72)\n",
      "(9988776622, 'Pukki', '19-02-2021', 93)\n",
      "(9988776623, 'Fernandes', '01-03-2022', 94)\n"
     ]
    }
   ],
   "source": [
    "result=cursor.execute(\"select*from stud_z\")\n",
    "for row in result:\n",
    "    print(row)"
   ]
  },
  {
   "cell_type": "code",
   "execution_count": 8,
   "id": "60f9e3c7",
   "metadata": {},
   "outputs": [
    {
     "data": {
      "text/plain": [
       "<sqlite3.Cursor at 0x64655a0>"
      ]
     },
     "execution_count": 8,
     "metadata": {},
     "output_type": "execute_result"
    }
   ],
   "source": [
    "cursor.execute(\"create table data_Z(phone_number int, email_z text, course_name text,fee int)\")"
   ]
  },
  {
   "cell_type": "code",
   "execution_count": 9,
   "id": "2bf5640a",
   "metadata": {},
   "outputs": [
    {
     "name": "stdout",
     "output_type": "stream",
     "text": [
      "20 records inserted\n"
     ]
    }
   ],
   "source": [
    "with open('DT_Students.csv','r')as file:\n",
    "    no_records=0\n",
    "    for row in file:\n",
    "        cursor.execute(\"insert into data_z values(?,?,?,?)\",row.split(\",\"))\n",
    "        db.commit()\n",
    "        no_records+=1\n",
    "print(no_records,'records inserted')"
   ]
  },
  {
   "cell_type": "code",
   "execution_count": 10,
   "id": "a0ed089f",
   "metadata": {},
   "outputs": [
    {
     "name": "stdout",
     "output_type": "stream",
     "text": [
      "(9988776604, 'student4@gmail.com', 'Digital Marketing', 38000)\n",
      "(9988776605, 'student5@gmail.com', 'Data Science', 133000)\n",
      "(9988776606, 'student6@gmail.com', 'Data Science', 34000)\n",
      "(9988776607, 'student7@gmail.com', 'Data Science', 33000)\n",
      "(9988776608, 'student8@gmail.com', 'Data Science', 129000)\n",
      "(9988776609, 'student9@gmail.com', 'Data Science', 40000)\n",
      "(9988776610, 'student10@gmail.com', 'Data Analytics', 32500)\n",
      "(9988776611, 'student11@gmail.com', 'Data Science', 41500)\n",
      "(9988776612, 'student12@gmail.com', 'Digital Marketing', 31000)\n",
      "(9988776613, 'student13@gmail.com', 'Digital Marketing', 23000)\n",
      "(9988776614, 'student14@gmail.com', 'Data Science', 24000)\n",
      "(9988776615, 'student15@gmail.com', 'Data Science', 23000)\n",
      "(9988776616, 'student16@gmail.com', 'Data Science', 122500)\n",
      "(9988776617, 'student17@gmail.com', 'Data Science', 29000)\n",
      "(9988776618, 'student18@gmail.com', 'Data Science', 140000)\n",
      "(9988776619, 'student19@gmail.com', 'Data Analytics', 32500)\n",
      "(9988776620, 'student20@gmail.com', 'Inv Banking', 41500)\n",
      "(9988776621, 'student21@gmail.com', 'Data Science', 131000)\n",
      "(9988776622, 'student22@gmail.com', 'Data Science', 23000)\n",
      "(9988776623, 'student23@gmail.com', 'Data Science', 24000)\n"
     ]
    }
   ],
   "source": [
    "result=cursor.execute(\"select*from data_z\")\n",
    "for row in result:\n",
    "    print(row)"
   ]
  },
  {
   "cell_type": "code",
   "execution_count": 13,
   "id": "689eaea7",
   "metadata": {},
   "outputs": [],
   "source": [
    "sql=\"select data_z.phone_number,stud_z.enrolled_date,stud_z.marks,stud_z.student_name from data_z inner join stud_z on data_z.phone_number=stud_z.phone_number\""
   ]
  },
  {
   "cell_type": "code",
   "execution_count": 14,
   "id": "ffab06ee",
   "metadata": {},
   "outputs": [
    {
     "name": "stdout",
     "output_type": "stream",
     "text": [
      "(9988776604, '03-10-2020', 85, 'Salah')\n",
      "(9988776605, '21-06-2020', 39, 'Heung-Son')\n",
      "(9988776606, '08-05-2020', 86, 'Ronaldo')\n",
      "(9988776607, '11-05-2022', 57, 'Kane')\n",
      "(9988776608, '17-05-2022', 52, 'Mane')\n",
      "(9988776614, '31-03-2022', 71, 'Toney')\n",
      "(9988776615, '10-03-2020', 44, 'Maddison')\n",
      "(9988776622, '19-02-2021', 93, 'Pukki')\n",
      "(9988776623, '01-03-2022', 94, 'Fernandes')\n"
     ]
    }
   ],
   "source": [
    "result=cursor.execute(sql)\n",
    "for row in result:\n",
    "    print(row)"
   ]
  },
  {
   "cell_type": "code",
   "execution_count": 15,
   "id": "f7a5687a",
   "metadata": {},
   "outputs": [],
   "source": [
    "sql=sql=\"select data_z.phone_number,stud_z.enrolled_date,stud_z.marks,stud_z.student_name from data_z left join stud_z on data_z.phone_number=stud_z.phone_number\""
   ]
  },
  {
   "cell_type": "code",
   "execution_count": 16,
   "id": "50b10d33",
   "metadata": {},
   "outputs": [
    {
     "name": "stdout",
     "output_type": "stream",
     "text": [
      "(9988776604, '03-10-2020', 85, 'Salah')\n",
      "(9988776605, '21-06-2020', 39, 'Heung-Son')\n",
      "(9988776606, '08-05-2020', 86, 'Ronaldo')\n",
      "(9988776607, '11-05-2022', 57, 'Kane')\n",
      "(9988776608, '17-05-2022', 52, 'Mane')\n",
      "(9988776609, None, None, None)\n",
      "(9988776610, None, None, None)\n",
      "(9988776611, None, None, None)\n",
      "(9988776612, None, None, None)\n",
      "(9988776613, None, None, None)\n",
      "(9988776614, '31-03-2022', 71, 'Toney')\n",
      "(9988776615, '10-03-2020', 44, 'Maddison')\n",
      "(9988776616, None, None, None)\n",
      "(9988776617, None, None, None)\n",
      "(9988776618, None, None, None)\n",
      "(9988776619, None, None, None)\n",
      "(9988776620, None, None, None)\n",
      "(9988776621, None, None, None)\n",
      "(9988776622, '19-02-2021', 93, 'Pukki')\n",
      "(9988776623, '01-03-2022', 94, 'Fernandes')\n"
     ]
    }
   ],
   "source": [
    "result=cursor.execute(sql)\n",
    "for row in result:\n",
    "    print(row)"
   ]
  },
  {
   "cell_type": "code",
   "execution_count": 17,
   "id": "932ac51a",
   "metadata": {},
   "outputs": [],
   "source": [
    "# how you can use in python"
   ]
  },
  {
   "cell_type": "code",
   "execution_count": 20,
   "id": "cdc251e2",
   "metadata": {},
   "outputs": [
    {
     "name": "stdout",
     "output_type": "stream",
     "text": [
      "you mobile number526398844\n",
      "enter valid phone_num\n",
      "you mobile number2165498984646354\n",
      "enter valid phone_num\n",
      "you mobile number77998844551\n",
      "enter valid phone_num\n",
      "you mobile number112233665\n",
      "enter valid phone_num\n",
      "you mobile number9977853871\n",
      "phone number not found in database\n"
     ]
    }
   ],
   "source": [
    "while True:\n",
    "    try:\n",
    "        ph_num=int(input('you mobile number'))\n",
    "        \n",
    "        if len(str(ph_num))!=10:\n",
    "            print('enter valid phone_num')\n",
    "            continue\n",
    "        else:\n",
    "            result=cursor.execute(\"select*from stud_z\")\n",
    "            for details in result:\n",
    "                if details[0]==ph_num:\n",
    "                    print('name:',detail[1])\n",
    "                    print('doj:',detail[2])\n",
    "                    print('mark:',detail[3])\n",
    "                    break\n",
    "            else:\n",
    "                print('phone number not found in database')\n",
    "                break\n",
    "            break\n",
    "    except:\n",
    "        print('not valid number')\n",
    "        continue"
   ]
  },
  {
   "cell_type": "code",
   "execution_count": 21,
   "id": "dea637ed",
   "metadata": {},
   "outputs": [
    {
     "data": {
      "text/plain": [
       "<sqlite3.Cursor at 0x64655a0>"
      ]
     },
     "execution_count": 21,
     "metadata": {},
     "output_type": "execute_result"
    }
   ],
   "source": [
    "sql=\"drop table stud_z\"\n",
    "cursor.execute(sql)"
   ]
  },
  {
   "cell_type": "code",
   "execution_count": 22,
   "id": "38892eb8",
   "metadata": {},
   "outputs": [
    {
     "data": {
      "text/plain": [
       "<sqlite3.Cursor at 0x64655a0>"
      ]
     },
     "execution_count": 22,
     "metadata": {},
     "output_type": "execute_result"
    }
   ],
   "source": [
    "sql=\"drop table data_z\"\n",
    "cursor.execute(sql)"
   ]
  },
  {
   "cell_type": "code",
   "execution_count": null,
   "id": "a70e9ba6",
   "metadata": {},
   "outputs": [],
   "source": []
  }
 ],
 "metadata": {
  "kernelspec": {
   "display_name": "Python 3 (ipykernel)",
   "language": "python",
   "name": "python3"
  },
  "language_info": {
   "codemirror_mode": {
    "name": "ipython",
    "version": 3
   },
   "file_extension": ".py",
   "mimetype": "text/x-python",
   "name": "python",
   "nbconvert_exporter": "python",
   "pygments_lexer": "ipython3",
   "version": "3.9.12"
  }
 },
 "nbformat": 4,
 "nbformat_minor": 5
}
